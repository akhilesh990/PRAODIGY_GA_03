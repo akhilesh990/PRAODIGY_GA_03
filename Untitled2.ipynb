{
  "nbformat": 4,
  "nbformat_minor": 0,
  "metadata": {
    "colab": {
      "provenance": []
    },
    "kernelspec": {
      "name": "python3",
      "display_name": "Python 3"
    },
    "language_info": {
      "name": "python"
    }
  },
  "cells": [
    {
      "cell_type": "code",
      "execution_count": 1,
      "metadata": {
        "colab": {
          "base_uri": "https://localhost:8080/"
        },
        "id": "FHfxAF2dSFcL",
        "outputId": "5bc6ebf3-90c4-480c-e10a-99908a09769c"
      },
      "outputs": [
        {
          "output_type": "stream",
          "name": "stdout",
          "text": [
            "Enter the training text: humans are very good in nature\n",
            "Enter n-gram size (e.g., 2 for bi-grams): 2\n",
            "Enter 2 starting words (must be from the text): very\n",
            "Enter the length of the generated text: 6\n",
            "\n",
            "Generated Text:\n",
            "very\n"
          ]
        }
      ],
      "source": [
        "import random\n",
        "from collections import defaultdict\n",
        "\n",
        "def build_markov_chain(text, n=2):\n",
        "    \"\"\"Builds a Markov chain model from the given text.\"\"\"\n",
        "    markov_chain = defaultdict(list)\n",
        "    words = text.split()\n",
        "\n",
        "    for i in range(len(words) - n):\n",
        "        key = tuple(words[i:i + n])\n",
        "        next_word = words[i + n]\n",
        "        markov_chain[key].append(next_word)\n",
        "\n",
        "    return markov_chain\n",
        "\n",
        "def generate_text(markov_chain, seed, length=50):\n",
        "    \"\"\"Generates text using the Markov chain model.\"\"\"\n",
        "    current_state = seed\n",
        "    output = list(current_state)\n",
        "\n",
        "    for _ in range(length - len(current_state)):\n",
        "        next_words = markov_chain.get(current_state, None)\n",
        "        if not next_words:\n",
        "            break\n",
        "        next_word = random.choice(next_words)\n",
        "        output.append(next_word)\n",
        "        current_state = tuple(output[-len(current_state):])\n",
        "\n",
        "    return ' '.join(output)\n",
        "\n",
        "if __name__ == \"__main__\":\n",
        "    # User input for text corpus\n",
        "    text_corpus = input(\"Enter the training text: \")\n",
        "\n",
        "    # User input for n-gram size\n",
        "    n_gram_size = int(input(\"Enter n-gram size (e.g., 2 for bi-grams): \"))\n",
        "\n",
        "    # Build Markov chain\n",
        "    markov_model = build_markov_chain(text_corpus, n=n_gram_size)\n",
        "\n",
        "    # User input for seed words\n",
        "    seed_input = input(f\"Enter {n_gram_size} starting words (must be from the text): \").split()\n",
        "    seed = tuple(seed_input)\n",
        "\n",
        "    # User input for output length\n",
        "    text_length = int(input(\"Enter the length of the generated text: \"))\n",
        "\n",
        "    # Generate text\n",
        "    generated_text = generate_text(markov_model, seed, length=text_length)\n",
        "\n",
        "    print(\"\\nGenerated Text:\")\n",
        "    print(generated_text)\n"
      ]
    }
  ]
}